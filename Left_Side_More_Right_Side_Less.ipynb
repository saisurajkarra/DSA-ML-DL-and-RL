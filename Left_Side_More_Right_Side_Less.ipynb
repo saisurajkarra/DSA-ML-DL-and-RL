{
 "cells": [
  {
   "cell_type": "code",
   "execution_count": 48,
   "id": "4b566ed7",
   "metadata": {},
   "outputs": [
    {
     "name": "stdout",
     "output_type": "stream",
     "text": [
      "4\n"
     ]
    }
   ],
   "source": [
    "import sys\n",
    "def findelement(arr,n):\n",
    "    left = n*[None]\n",
    "    left[0] = arr[0]\n",
    "    for i in range(1,n):\n",
    "        left[i] = max(left[i-1],arr[i-1])\n",
    "    right = n*[None]\n",
    "    right[n-1] = arr[n-1] \n",
    "    for i in range(n-2, -1, -1):\n",
    "        right[i] = min(right[i+1], arr[i])\n",
    "    for i in range(1,n-1):\n",
    "        if(left[i]<=arr[i] and right[i+1]>arr[i]):\n",
    "            return i\n",
    "    return -1\n",
    "    \n",
    "arr = [6,2,5,4,7,9,11,8,10]\n",
    "n = len(arr)\n",
    "print(findelement(arr,n))   \n"
   ]
  },
  {
   "cell_type": "code",
   "execution_count": null,
   "id": "44a1d584",
   "metadata": {},
   "outputs": [],
   "source": []
  }
 ],
 "metadata": {
  "kernelspec": {
   "display_name": "Python 3 (ipykernel)",
   "language": "python",
   "name": "python3"
  },
  "language_info": {
   "codemirror_mode": {
    "name": "ipython",
    "version": 3
   },
   "file_extension": ".py",
   "mimetype": "text/x-python",
   "name": "python",
   "nbconvert_exporter": "python",
   "pygments_lexer": "ipython3",
   "version": "3.9.7"
  }
 },
 "nbformat": 4,
 "nbformat_minor": 5
}
