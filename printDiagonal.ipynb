{
  "nbformat": 4,
  "nbformat_minor": 0,
  "metadata": {
    "colab": {
      "name": "printDiagonal.ipynb",
      "provenance": []
    },
    "kernelspec": {
      "name": "python3",
      "display_name": "Python 3"
    },
    "language_info": {
      "name": "python"
    }
  },
  "cells": [
    {
      "cell_type": "code",
      "execution_count": 2,
      "metadata": {
        "colab": {
          "base_uri": "https://localhost:8080/"
        },
        "id": "mTV97m226IQE",
        "outputId": "331e8b82-b085-46ab-b86e-0e1cd106729c"
      },
      "outputs": [
        {
          "output_type": "stream",
          "name": "stdout",
          "text": [
            "dia 1\n",
            "dia 2\n",
            "dia 3\n",
            "dia 7\n",
            "dia 4\n",
            "dia 5\n",
            "dia 9\n",
            "dia 6\n",
            "dia 11\n",
            "None\n"
          ]
        }
      ],
      "source": [
        "def dia(mat):\n",
        "  for k in range(m):\n",
        "    i = k\n",
        "    j = 0\n",
        "    while(i>=0):\n",
        "      print(\"dia\",mat[i][j])\n",
        "      i -=1\n",
        "      j +=1\n",
        "  for k in range(1,n):\n",
        "    i = m-1\n",
        "    j = k\n",
        "    while(j<=n-1):\n",
        "      print(\"dia\",mat[i][j])\n",
        "      i -=1\n",
        "      j +=1\n",
        "mat = [[1,3,5],[2,4,6],[7,9,11]]\n",
        "[1 3 5\n",
        " 2 4 6\n",
        " 7 9 11\n",
        "]\n",
        "m = 3\n",
        "n = 3\n",
        "print(dia(mat))\n"
      ]
    },
    {
      "cell_type": "code",
      "source": [
        ""
      ],
      "metadata": {
        "id": "ohtKLTVi6tT4"
      },
      "execution_count": null,
      "outputs": []
    }
  ]
}