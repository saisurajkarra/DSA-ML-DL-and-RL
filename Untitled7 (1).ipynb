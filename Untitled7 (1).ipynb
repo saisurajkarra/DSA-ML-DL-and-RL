{
  "nbformat": 4,
  "nbformat_minor": 0,
  "metadata": {
    "colab": {
      "name": "Untitled7.ipynb",
      "provenance": []
    },
    "kernelspec": {
      "name": "python3",
      "display_name": "Python 3"
    },
    "language_info": {
      "name": "python"
    }
  },
  "cells": [
    {
      "cell_type": "code",
      "execution_count": 4,
      "metadata": {
        "colab": {
          "base_uri": "https://localhost:8080/"
        },
        "id": "MjTNjgDNddCo",
        "outputId": "3de5e2ea-349b-4428-a003-e5adbb07aa68"
      },
      "outputs": [
        {
          "output_type": "stream",
          "name": "stdout",
          "text": [
            "10\n",
            "5\n",
            "16\n",
            "8\n",
            "4\n",
            "2\n",
            "1\n",
            "None\n"
          ]
        }
      ],
      "source": [
        "def weirdalgo(n):\n",
        "  while(n>1):\n",
        "    if(n%2==0):\n",
        "      n//=2\n",
        "    else:\n",
        "      n = n*3 + 1\n",
        "    print(n)\n",
        "print(weirdalgo(3))"
      ]
    },
    {
      "cell_type": "code",
      "source": [
        ""
      ],
      "metadata": {
        "id": "l5LTagzJd0QF"
      },
      "execution_count": null,
      "outputs": []
    }
  ]
}