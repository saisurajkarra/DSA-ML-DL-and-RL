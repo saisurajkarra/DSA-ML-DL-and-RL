{
 "cells": [
  {
   "cell_type": "code",
   "execution_count": 14,
   "id": "3e5302a0",
   "metadata": {},
   "outputs": [
    {
     "name": "stdout",
     "output_type": "stream",
     "text": [
      "2\n"
     ]
    }
   ],
   "source": [
    "#[2,3,1,1,4]\n",
    "def maxjump(arr,n):\n",
    "    if(n<=1):\n",
    "        return 0\n",
    "    if(arr[0]==0):\n",
    "        return -1\n",
    "    a = arr[0]\n",
    "    b = arr[0]\n",
    "    jump = 1\n",
    "    for i in range(1,n):\n",
    "        if(i==n-1):\n",
    "            return jump\n",
    "        a-=1\n",
    "        b-=1\n",
    "        if(arr[i]>b):\n",
    "            b = arr[i]\n",
    "        if(a==0):\n",
    "            jump+=1\n",
    "            a = b\n",
    "    return jump \n",
    "    \n",
    "arr = [2,3,1,1,4]\n",
    "print(maxjump(arr,4))"
   ]
  },
  {
   "cell_type": "code",
   "execution_count": null,
   "id": "adbe8190",
   "metadata": {},
   "outputs": [],
   "source": []
  }
 ],
 "metadata": {
  "kernelspec": {
   "display_name": "Python 3 (ipykernel)",
   "language": "python",
   "name": "python3"
  },
  "language_info": {
   "codemirror_mode": {
    "name": "ipython",
    "version": 3
   },
   "file_extension": ".py",
   "mimetype": "text/x-python",
   "name": "python",
   "nbconvert_exporter": "python",
   "pygments_lexer": "ipython3",
   "version": "3.9.7"
  }
 },
 "nbformat": 4,
 "nbformat_minor": 5
}
