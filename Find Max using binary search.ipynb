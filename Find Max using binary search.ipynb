{
 "cells": [
  {
   "cell_type": "code",
   "execution_count": 24,
   "id": "9de6f1ae",
   "metadata": {},
   "outputs": [],
   "source": [
    "def findNumber(array,low,high,value): \n",
    "    #Write your code here\n",
    "    if(low==high):\n",
    "        return array[low]\n",
    "    if(high == low+1):\n",
    "        if(array[low]>=array[high]):\n",
    "            return array[low]\n",
    "        else:\n",
    "            return array[high]\n",
    "    mid = (low+high)//2\n",
    "    if(array[mid]>array[mid-1] and array[mid]>array[mid+1]):\n",
    "        return array[mid]\n",
    "    elif(array[mid-1]<= array[mid]  and array[mid]>=array[mid+1]):\n",
    "        return findNumber(array, low,mid-1)\n",
    "    else:\n",
    "        return findNumber(array, mid+1,high)\n",
    "   "
   ]
  },
  {
   "cell_type": "code",
   "execution_count": 27,
   "id": "aee1208d",
   "metadata": {},
   "outputs": [
    {
     "name": "stdout",
     "output_type": "stream",
     "text": [
      "6234\n"
     ]
    }
   ],
   "source": [
    "print(findNumber([1,3,5,7,131,6234,5,2],0,7))"
   ]
  },
  {
   "cell_type": "code",
   "execution_count": null,
   "id": "6c60bb6d",
   "metadata": {},
   "outputs": [],
   "source": [
    "[3,4,5,6,7,8,9,10,1,2]\n",
    "left is less and right is less "
   ]
  }
 ],
 "metadata": {
  "kernelspec": {
   "display_name": "Python 3 (ipykernel)",
   "language": "python",
   "name": "python3"
  },
  "language_info": {
   "codemirror_mode": {
    "name": "ipython",
    "version": 3
   },
   "file_extension": ".py",
   "mimetype": "text/x-python",
   "name": "python",
   "nbconvert_exporter": "python",
   "pygments_lexer": "ipython3",
   "version": "3.9.7"
  }
 },
 "nbformat": 4,
 "nbformat_minor": 5
}
