{
 "cells": [
  {
   "cell_type": "code",
   "execution_count": 38,
   "id": "0beeb87b",
   "metadata": {},
   "outputs": [],
   "source": [
    "def rotated(array,low,high,value): \n",
    "    #Write your code here\n",
    "    if(low>high):\n",
    "        return -1\n",
    "    mid = (low+high)//2\n",
    "    if(array[mid]==value):\n",
    "        return mid\n",
    "    if(array[low]<=array[mid]):\n",
    "        if(value>=array[start] and value<=array[mid]):\n",
    "            return rotated(array,low,mid-1,value)\n",
    "        \n",
    "        return rotated(array,mid+1,high,value)\n",
    "    if(value>=array[mid] and value<=array[high]):\n",
    "        return rotated(array,mid+1,high,value)\n",
    "    return rotated(array,start,mid-1,value)\n",
    "       "
   ]
  },
  {
   "cell_type": "code",
   "execution_count": 39,
   "id": "1ec528ac",
   "metadata": {},
   "outputs": [
    {
     "name": "stdout",
     "output_type": "stream",
     "text": [
      "8\n"
     ]
    }
   ],
   "source": [
    "print(rotated([3,4,5,6,7,8,9,10,1,2],0,9,1))"
   ]
  },
  {
   "cell_type": "code",
   "execution_count": null,
   "id": "72226345",
   "metadata": {},
   "outputs": [],
   "source": [
    "[3,4,5,6,7,8,9,10,1,2]\n",
    " 0 1 2 3 4 5 6  7 8 9\n",
    "left is less and right is less "
   ]
  }
 ],
 "metadata": {
  "kernelspec": {
   "display_name": "Python 3 (ipykernel)",
   "language": "python",
   "name": "python3"
  },
  "language_info": {
   "codemirror_mode": {
    "name": "ipython",
    "version": 3
   },
   "file_extension": ".py",
   "mimetype": "text/x-python",
   "name": "python",
   "nbconvert_exporter": "python",
   "pygments_lexer": "ipython3",
   "version": "3.9.7"
  }
 },
 "nbformat": 4,
 "nbformat_minor": 5
}
