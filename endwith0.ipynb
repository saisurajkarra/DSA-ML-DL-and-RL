{
 "cells": [
  {
   "cell_type": "code",
   "execution_count": 1,
   "id": "657aeb0a",
   "metadata": {},
   "outputs": [
    {
     "name": "stdout",
     "output_type": "stream",
     "text": [
      "[1, 3, 4, 5, 0, 0, 0, 0]\n"
     ]
    }
   ],
   "source": [
    "# [1,0,3,4,0,5,0,0]\n",
    "def move0(arr,n):\n",
    "    count = 0\n",
    "    for i in range(0,n):\n",
    "        if(arr[i]!=0):\n",
    "            arr[count] = arr[i]\n",
    "            count = count + 1\n",
    "    while(count<n):\n",
    "        arr[count] = 0\n",
    "        count = count + 1\n",
    "arr = [1,0,3,4,0,5,0,0]\n",
    "n = len(arr)-1\n",
    "move0(arr,n)\n",
    "print(arr)"
   ]
  },
  {
   "cell_type": "code",
   "execution_count": null,
   "id": "4bb8b169",
   "metadata": {},
   "outputs": [],
   "source": []
  }
 ],
 "metadata": {
  "kernelspec": {
   "display_name": "Python 3 (ipykernel)",
   "language": "python",
   "name": "python3"
  },
  "language_info": {
   "codemirror_mode": {
    "name": "ipython",
    "version": 3
   },
   "file_extension": ".py",
   "mimetype": "text/x-python",
   "name": "python",
   "nbconvert_exporter": "python",
   "pygments_lexer": "ipython3",
   "version": "3.9.7"
  }
 },
 "nbformat": 4,
 "nbformat_minor": 5
}
