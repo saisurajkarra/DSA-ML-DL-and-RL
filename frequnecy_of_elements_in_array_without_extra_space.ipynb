{
  "nbformat": 4,
  "nbformat_minor": 0,
  "metadata": {
    "colab": {
      "name": "frequnecy of elements in array without extra space.ipynb",
      "provenance": []
    },
    "kernelspec": {
      "name": "python3",
      "display_name": "Python 3"
    },
    "language_info": {
      "name": "python"
    }
  },
  "cells": [
    {
      "cell_type": "code",
      "execution_count": 2,
      "metadata": {
        "colab": {
          "base_uri": "https://localhost:8080/"
        },
        "id": "A33k-yxvx2u5",
        "outputId": "575094dc-0826-4be6-f348-8a40fb0b4446"
      },
      "outputs": [
        {
          "output_type": "stream",
          "name": "stdout",
          "text": [
            "1 ---> 0\n",
            "2 ---> 2\n",
            "3 ---> 2\n",
            "4 ---> 0\n",
            "5 ---> 1\n",
            "\n"
          ]
        }
      ],
      "source": [
        "def frequency(arr,n):\n",
        "  i = 0\n",
        "  [2, 3, 3, 2, 5]\n",
        "  while i<n:\n",
        "    if(arr[i]<=0):\n",
        "      i+=1\n",
        "      continue\n",
        "    e = arr[i] - 1\n",
        "    if(arr[e]>0):\n",
        "      arr[i] = arr[e] # arr[e] = 1\n",
        "      arr[e] = -1 # arr[e] = -1 \n",
        "    else:\n",
        "      arr[e]-=1\n",
        "      arr[i] = 0\n",
        "      i+=1\n",
        "  for i in range(0,n):\n",
        "    print(\"%d ---> %d\"%(i+1,abs(arr[i])))\n",
        "  print(\"\")\n",
        "arr = [2, 3, 3, 2, 5]\n",
        "frequency(arr, len(arr)) "
      ]
    },
    {
      "cell_type": "code",
      "source": [
        "def fre(arr,n):\n",
        "  for j in range(n):\n",
        "    arr[j] = arr[j] - 1\n",
        "  for i in range(n):\n",
        "    arr[arr[i]%n] = arr[arr[i]%n] + n\n",
        "  for i in range(n):\n",
        "    print(\"%d ---> %d\"%(i+1,arr[i]//n))\n",
        "arr = [2, 3, 3, 2, 5]\n",
        "fre(arr, len(arr)) "
      ],
      "metadata": {
        "colab": {
          "base_uri": "https://localhost:8080/"
        },
        "id": "M0H1FGR2x62s",
        "outputId": "49a7b405-e6d4-46d0-8609-137e3bb1d7bb"
      },
      "execution_count": 3,
      "outputs": [
        {
          "output_type": "stream",
          "name": "stdout",
          "text": [
            "1 ---> 0\n",
            "2 ---> 2\n",
            "3 ---> 2\n",
            "4 ---> 0\n",
            "5 ---> 1\n"
          ]
        }
      ]
    },
    {
      "cell_type": "code",
      "source": [
        ""
      ],
      "metadata": {
        "id": "8h3umNJw07jI"
      },
      "execution_count": null,
      "outputs": []
    }
  ]
}