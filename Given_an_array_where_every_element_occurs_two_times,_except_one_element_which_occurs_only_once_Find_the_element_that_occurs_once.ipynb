{
  "nbformat": 4,
  "nbformat_minor": 0,
  "metadata": {
    "colab": {
      "name": "Given an array where every element occurs two times, except one element which occurs only once. Find the element that occurs once.ipynb",
      "provenance": []
    },
    "kernelspec": {
      "name": "python3",
      "display_name": "Python 3"
    },
    "language_info": {
      "name": "python"
    }
  },
  "cells": [
    {
      "cell_type": "code",
      "source": [
        "def single(arr,n):\n",
        "  result = arr[0]\n",
        "  for i in range(1,n):\n",
        "    result = result ^ arr[i]\n",
        "  return result\n",
        "\n",
        "\n",
        "    \n",
        "    \n",
        "\n",
        "  \n",
        "   \n",
        "arr = [2, 3, 3, 2, 5]\n",
        "single(arr, len(arr))"
      ],
      "metadata": {
        "colab": {
          "base_uri": "https://localhost:8080/"
        },
        "id": "Y3fEeQRg2qav",
        "outputId": "f0ab3da0-8bde-4575-a2b0-fbf9987a05b1"
      },
      "execution_count": 30,
      "outputs": [
        {
          "output_type": "execute_result",
          "data": {
            "text/plain": [
              "5"
            ]
          },
          "metadata": {},
          "execution_count": 30
        }
      ]
    },
    {
      "cell_type": "code",
      "source": [
        ""
      ],
      "metadata": {
        "id": "mO4F3DG73Y3_"
      },
      "execution_count": null,
      "outputs": []
    }
  ]
}