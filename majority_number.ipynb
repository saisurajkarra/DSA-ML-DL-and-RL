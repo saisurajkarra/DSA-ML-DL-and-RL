{
  "nbformat": 4,
  "nbformat_minor": 0,
  "metadata": {
    "colab": {
      "name": "majority number.ipynb",
      "provenance": []
    },
    "kernelspec": {
      "name": "python3",
      "display_name": "Python 3"
    },
    "language_info": {
      "name": "python"
    }
  },
  "cells": [
    {
      "cell_type": "code",
      "source": [
        "def majority(arr,n):\n",
        "  count = 1\n",
        "  maj = arr[0]\n",
        "  for i in range(1,n):\n",
        "    if(maj == arr[i]):\n",
        "      count+=1\n",
        "    else:\n",
        "      count-=1\n",
        "    \n",
        "    if(count==0):\n",
        "      maj = arr[i]\n",
        "      count = 1\n",
        "  return maj\n",
        "    \n",
        "    \n",
        "\n",
        "  \n",
        "   \n",
        "arr = [2, 3, 3, 2, 3, 5]\n",
        "majority(arr, len(arr))"
      ],
      "metadata": {
        "colab": {
          "base_uri": "https://localhost:8080/"
        },
        "id": "Y3fEeQRg2qav",
        "outputId": "603505c3-8704-40c2-d570-f39e8829d2f7"
      },
      "execution_count": 29,
      "outputs": [
        {
          "output_type": "execute_result",
          "data": {
            "text/plain": [
              "3"
            ]
          },
          "metadata": {},
          "execution_count": 29
        }
      ]
    },
    {
      "cell_type": "code",
      "source": [
        ""
      ],
      "metadata": {
        "id": "mO4F3DG73Y3_"
      },
      "execution_count": null,
      "outputs": []
    }
  ]
}