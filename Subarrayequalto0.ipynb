{
  "nbformat": 4,
  "nbformat_minor": 0,
  "metadata": {
    "colab": {
      "name": "Subarrayequalto0.ipynb",
      "provenance": []
    },
    "kernelspec": {
      "name": "python3",
      "display_name": "Python 3"
    },
    "language_info": {
      "name": "python"
    }
  },
  "cells": [
    {
      "cell_type": "code",
      "execution_count": 8,
      "metadata": {
        "colab": {
          "base_uri": "https://localhost:8080/"
        },
        "id": "y-K0Ry1z-0KQ",
        "outputId": "70c74567-c561-4134-facc-dd0c0ddb7134"
      },
      "outputs": [
        {
          "output_type": "stream",
          "name": "stdout",
          "text": [
            "Subarray found from Index 2 to 4\n",
            "Subarray found from Index 2 to 6\n",
            "Subarray found from Index 5 to 6\n",
            "Subarray found from Index 6 to 9\n",
            "Subarray found from Index 0 to 10\n"
          ]
        }
      ],
      "source": [
        "def subarray(arr,n):\n",
        "  hashMap = {}\n",
        "  sum = 0\n",
        "  out = []\n",
        "  for i in range(n):\n",
        "    sum += arr[i]\n",
        "    if sum==0:\n",
        "      out.append((0,i))\n",
        "    al = []\n",
        "    if sum in hashMap:\n",
        "      al = hashMap.get(sum)\n",
        "      for it in range(len(al)):\n",
        "        out.append((al[it]+1,i))\n",
        "    al.append(i)\n",
        "    hashMap[sum] = al\n",
        "  return out\n",
        "def printOutput(output):\n",
        "  for i in output:\n",
        "    print (\"Subarray found from Index \" + str(i[0]) + \" to \" + str(i[1]))\n",
        "arr = [6, 3, -1, -3, 4, -2,\n",
        "              2, 4, 6, -12, -7]\n",
        "n = len(arr)\n",
        "out = subarray(arr, n)\n",
        "if (len(out) == 0):\n",
        "  print (\"No subarray exists\")\n",
        "else:\n",
        "  printOutput (out)\n",
        "\n",
        "      "
      ]
    },
    {
      "cell_type": "code",
      "source": [
        "# Python3 program to print all subarrays\n",
        "# in the array which has sum 0\n",
        "\n",
        "# Function to get all subarrays\n",
        "# in the array which has sum 0\n",
        "def findSubArrays(arr,n):\n",
        "\n",
        "\t# create a python dict\n",
        "\thashMap = {}\n",
        "\t\n",
        "\t# create a python list\n",
        "\t# equivalent to ArrayList\n",
        "\tout = []\n",
        "\t\n",
        "\t# tracker for sum of elements\n",
        "\tsum1 = 0\n",
        "\tfor i in range(n):\n",
        "\t\t\n",
        "\t\t# increment sum by element of array\n",
        "\t\tsum1 += arr[i]\n",
        "\t\t\n",
        "\t\t# if sum is 0, we found a subarray starting\n",
        "\t\t# from index 0 and ending at index i\n",
        "\t\tif sum1 == 0:\n",
        "\t\t\tout.append((0, i))\n",
        "\t\tal = []\n",
        "\t\t\n",
        "\t\t# If sum already exists in the map\n",
        "\t\t# there exists at-least one subarray\n",
        "\t\t# ending at index i with 0 sum\n",
        "\t\tif sum1 in hashMap:\n",
        "\t\t\t\n",
        "\t\t\t# map[sum] stores starting index\n",
        "\t\t\t# of all subarrays\n",
        "\t\t\tal = hashMap.get(sum1)\n",
        "\t\t\tfor it in range(len(al)):\n",
        "\t\t\t\tout.append((al[it] + 1, i))\n",
        "\t\tal.append(i)\n",
        "\t\thashMap[sum1] = al\n",
        "\treturn out\n",
        "\n",
        "# Utility function to print\n",
        "# all subarrays with sum 0\n",
        "def printOutput(output):\n",
        "\tfor i in output:\n",
        "\t\tprint (\"Subarray found from Index \" +\n",
        "\t\t\t\tstr(i[0]) + \" to \" + str(i[1]))\n",
        "\n",
        "# Driver Code\n",
        "if __name__ == '__main__':\n",
        "\tarr = [6, 3, -1, -3, 4, -2,\n",
        "\t\t\t2, 4, 6, -12, -7]\n",
        "\tn = len(arr)\n",
        "\tout = findSubArrays(arr, n)\n",
        "\t\n",
        "\t# if we did not find any subarray with 0 sum,\n",
        "\t# then subarray does not exists\n",
        "\tif (len(out) == 0):\n",
        "\t\tprint (\"No subarray exists\")\n",
        "\telse:\n",
        "\t\tprintOutput (out)\n",
        "\n",
        "# This code is contributed by Vikas Chitturi\n"
      ],
      "metadata": {
        "colab": {
          "base_uri": "https://localhost:8080/"
        },
        "id": "NH3SZpj6Ar6_",
        "outputId": "00456c65-c811-4ee7-c608-bdada39ec427"
      },
      "execution_count": 4,
      "outputs": [
        {
          "output_type": "stream",
          "name": "stdout",
          "text": [
            "Subarray found from Index 2 to 4\n",
            "Subarray found from Index 2 to 6\n",
            "Subarray found from Index 5 to 6\n",
            "Subarray found from Index 6 to 9\n",
            "Subarray found from Index 0 to 10\n"
          ]
        }
      ]
    },
    {
      "cell_type": "code",
      "source": [
        ""
      ],
      "metadata": {
        "id": "hlZALaZVBh4l"
      },
      "execution_count": null,
      "outputs": []
    }
  ]
}