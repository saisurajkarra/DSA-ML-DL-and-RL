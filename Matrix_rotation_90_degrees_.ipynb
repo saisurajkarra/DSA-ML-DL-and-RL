{
  "nbformat": 4,
  "nbformat_minor": 0,
  "metadata": {
    "colab": {
      "name": "Matrix rotation 90 degrees .ipynb",
      "provenance": [],
      "collapsed_sections": []
    },
    "kernelspec": {
      "name": "python3",
      "display_name": "Python 3"
    },
    "language_info": {
      "name": "python"
    }
  },
  "cells": [
    {
      "cell_type": "code",
      "source": [
        "def matrixrotation(N,mat):\n",
        "  for i in range(0,N//2):\n",
        "    for j in range(i,N-1-i):\n",
        "      temp = mat[j][N-1-i]\n",
        "      mat[j][N-1-i] = mat[i][j]\n",
        "      mat[i][j] = mat[N-1-j][i]\n",
        "      mat[N-1-j][i] = mat[N-1-i][N-1-j]\n",
        "      mat[N-1-i][N-1-j] = temp\n",
        "def printMatrix(N,mat):\n",
        "  for i in range(N):\n",
        "    print(mat[i]) \n",
        "\n",
        "\n",
        "mat = [[1,2,3,4],\n",
        "       [5,6,7,8],\n",
        "       [9,10,11,12],\n",
        "       [13,14,15,16]]\n",
        "N = 4\n",
        "matrixrotation(N,mat)\n",
        "printMatrix(N,mat)\n",
        "  \n",
        "\n"
      ],
      "metadata": {
        "colab": {
          "base_uri": "https://localhost:8080/"
        },
        "id": "45jbkdswSY-C",
        "outputId": "5c63017a-1b79-4210-fb63-3f2cfc2a8661"
      },
      "execution_count": 27,
      "outputs": [
        {
          "output_type": "stream",
          "name": "stdout",
          "text": [
            "[13, 9, 5, 1]\n",
            "[14, 10, 6, 2]\n",
            "[15, 11, 7, 3]\n",
            "[16, 12, 8, 4]\n"
          ]
        }
      ]
    },
    {
      "cell_type": "code",
      "source": [
        "  "
      ],
      "metadata": {
        "id": "sJxPziqDYuJa"
      },
      "execution_count": null,
      "outputs": []
    }
  ]
}