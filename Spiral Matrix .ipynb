{
 "cells": [
  {
   "cell_type": "code",
   "execution_count": 8,
   "id": "3f8babfa",
   "metadata": {},
   "outputs": [
    {
     "name": "stdout",
     "output_type": "stream",
     "text": [
      "1\n",
      "2\n",
      "3\n",
      "4\n",
      "8\n",
      "12\n",
      "16\n",
      "15\n",
      "14\n",
      "13\n",
      "12\n",
      "8\n",
      "6\n",
      "7\n",
      "11\n",
      "10\n",
      "None\n"
     ]
    }
   ],
   "source": [
    "def spiral(arr,e_r,e_c):\n",
    "    s_r = 0\n",
    "    s_c = 0\n",
    "    while(s_r<=e_r and s_c<=e_c):\n",
    "        for i in range(s_c,e_c):\n",
    "            print(arr[s_r][i])\n",
    "        s_r+=1\n",
    "        \n",
    "        for i in range(s_r,e_r):\n",
    "            print(arr[i][e_c-1])\n",
    "        e_c-=1\n",
    "        \n",
    "        if s_r<e_r:\n",
    "            for i in range(e_c-1,s_c-1,-1):\n",
    "                print(arr[e_r-1][i])\n",
    "            e_r -=1\n",
    "        if s_c<e_c:\n",
    "            for i in range(e_r-1,s_r-1,-1):\n",
    "                print(arr[i][s_c-1])\n",
    "            s_c += 1\n",
    "\n",
    "matrix = [ [1, 2, 3, 4],  [5,6,7,8],[9, 10, 11, 12],[13, 14, 15, 16] ] \n",
    "e_r = 4\n",
    "e_c = 4\n",
    "print(spiral(matrix,e_r,e_c))"
   ]
  },
  {
   "cell_type": "code",
   "execution_count": null,
   "id": "eed3c0b2",
   "metadata": {},
   "outputs": [],
   "source": []
  }
 ],
 "metadata": {
  "kernelspec": {
   "display_name": "Python 3 (ipykernel)",
   "language": "python",
   "name": "python3"
  },
  "language_info": {
   "codemirror_mode": {
    "name": "ipython",
    "version": 3
   },
   "file_extension": ".py",
   "mimetype": "text/x-python",
   "name": "python",
   "nbconvert_exporter": "python",
   "pygments_lexer": "ipython3",
   "version": "3.9.7"
  }
 },
 "nbformat": 4,
 "nbformat_minor": 5
}
