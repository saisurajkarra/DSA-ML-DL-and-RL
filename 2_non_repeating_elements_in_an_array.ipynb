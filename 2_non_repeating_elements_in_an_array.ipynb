{
  "nbformat": 4,
  "nbformat_minor": 0,
  "metadata": {
    "colab": {
      "name": "2 non repeating elements in an array.ipynb",
      "provenance": []
    },
    "kernelspec": {
      "name": "python3",
      "display_name": "Python 3"
    },
    "language_info": {
      "name": "python"
    }
  },
  "cells": [
    {
      "cell_type": "code",
      "source": [
        "def nonrepeatingnumbers(arr,n):\n",
        "  xor = 0\n",
        "  for i in range(0,n):\n",
        "    xor ^=arr[i]\n",
        "  xor = (xor & -xor)\n",
        "\n",
        "  a = 0\n",
        "  b = 0\n",
        "  for i in range(0,n):\n",
        "    if(arr[i] and xor) > 0:\n",
        "      a ^= arr[i]\n",
        "    else:\n",
        "      b ^=arr[i]\n",
        "  print(\"%d,%d\"%(a,b))\n",
        "\n",
        "\n",
        "    \n",
        "    \n",
        "\n",
        "  \n",
        "   \n",
        "arr = [2, 4, 3, 3, 2, 5]\n",
        "nonrepeatingnumbers(arr, len(arr))"
      ],
      "metadata": {
        "colab": {
          "base_uri": "https://localhost:8080/"
        },
        "id": "Y3fEeQRg2qav",
        "outputId": "9d8dda99-c258-46b9-8d39-ef5837593068"
      },
      "execution_count": 40,
      "outputs": [
        {
          "output_type": "stream",
          "name": "stdout",
          "text": [
            "1,0\n"
          ]
        }
      ]
    },
    {
      "cell_type": "code",
      "source": [
        "# Python3 program for above approach\n",
        "\n",
        "# This function sets the values of\n",
        "# *x and *y to non-repeating elements\n",
        "# in an array arr[] of size n\n",
        "\n",
        "\n",
        "def UniqueNumbers2(arr, n):\n",
        "\n",
        "\tsums = 0\n",
        "\n",
        "\tfor i in range(0, n):\n",
        "\n",
        "\t\t# Xor all the elements of the array\n",
        "\t\t# all the elements occurring twice will\n",
        "\t\t# cancel out each other remaining\n",
        "\t\t# two unique numbers will be xored\n",
        "\t\tsums = (sums ^ arr[i])\n",
        "\n",
        "\t# Bitwise & the sum with it's 2's Complement\n",
        "\t# Bitwise & will give us the sum containing\n",
        "\t# only the rightmost set bit\n",
        "\tsums = (sums & -sums)\n",
        "\n",
        "\t# sum1 and sum2 will contains 2 unique\n",
        "\t# elements initialized with 0 box\n",
        "\t# number xored with 0 is number itself\n",
        "\tsum1 = 0\n",
        "\tsum2 = 0\n",
        "\n",
        "\t# Traversing the array again\n",
        "\tfor i in range(0, len(arr)):\n",
        "\n",
        "\t\t# Bitwise & the arr[i] with the sum\n",
        "\t\t# Two possibilities either result == 0\n",
        "\t\t# or result > 0\n",
        "\t\tif (arr[i] & sums) > 0:\n",
        "\n",
        "\t\t\t# If result > 0 then arr[i] xored\n",
        "\t\t\t# with the sum1\n",
        "\t\t\tsum1 = (sum1 ^ arr[i])\n",
        "\n",
        "\t\telse:\n",
        "\n",
        "\t\t\t# If result == 0 then arr[i]\n",
        "\t\t\t# xored with sum2\n",
        "\t\t\tsum2 = (sum2 ^ arr[i])\n",
        "\n",
        "\t# Print the the two unique numbers\n",
        "\tprint(\"The non-repeating elements are \",\n",
        "\t\tsum1, \" and \", sum2)\n",
        "\n",
        "\n",
        "# Driver Code\n",
        "if __name__ == \"__main__\":\n",
        "\n",
        "\tarr = [2, 3, 7, 9, 11, 2, 3, 11]\n",
        "\tn = len(arr)\n",
        "\n",
        "\tUniqueNumbers2(arr, n)\n",
        "\n",
        "# This code is contributed by akhilsaini\n"
      ],
      "metadata": {
        "colab": {
          "base_uri": "https://localhost:8080/"
        },
        "id": "mO4F3DG73Y3_",
        "outputId": "c376c45f-eb12-4a9e-eafd-c13576ce6632"
      },
      "execution_count": 41,
      "outputs": [
        {
          "output_type": "stream",
          "name": "stdout",
          "text": [
            "The non-repeating elements are  7  and  9\n"
          ]
        }
      ]
    },
    {
      "cell_type": "code",
      "source": [
        ""
      ],
      "metadata": {
        "id": "0syK2DktC8rd"
      },
      "execution_count": null,
      "outputs": []
    }
  ]
}