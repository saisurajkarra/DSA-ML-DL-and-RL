{
 "cells": [
  {
   "cell_type": "code",
   "execution_count": 3,
   "id": "dc0ab120",
   "metadata": {},
   "outputs": [
    {
     "name": "stdout",
     "output_type": "stream",
     "text": [
      "[3, 4, 6, 8, 10, 12, 13, 25]\n"
     ]
    }
   ],
   "source": [
    "def merge(arr,aux,low,mid,high):\n",
    "    k = low\n",
    "    i = low\n",
    "    j = mid+1\n",
    "    while(i<=mid and j<=high):\n",
    "        if(arr[i]<=arr[j]):\n",
    "            aux[k] = arr[i]\n",
    "            k+=1\n",
    "            i+=1\n",
    "        else:\n",
    "            aux[k] = arr[j]\n",
    "            k+=1\n",
    "            j+=1\n",
    "    while(i<=mid):\n",
    "        aux[k] = arr[i]\n",
    "        k+=1\n",
    "        i+=1\n",
    "    for i in range(low,high+1):\n",
    "        arr[i] = aux[i]\n",
    "        \n",
    "def mergeSort(arr, aux, low, high):\n",
    "    \n",
    "    if(low==high):\n",
    "        return \n",
    "    mid = (low +high)//2\n",
    "    mergeSort(arr,aux,low,mid)\n",
    "    mergeSort(arr,aux,mid+1,high)\n",
    "    merge(arr,aux,low,mid,high)\n",
    "    \n",
    "def mergeSortFinal(arr, aux, low, high):\n",
    "    mergeSort(arr, aux, low, high)\n",
    "    return arr\n",
    "\n",
    "\t\n",
    "arr = [8,4,3,12,25,6,13,10]\n",
    "aux = arr.copy()\n",
    "actual = mergeSortFinal(arr, aux, 0, len(arr) - 1)\n",
    "print(actual)\n",
    "\n"
   ]
  },
  {
   "cell_type": "code",
   "execution_count": null,
   "id": "ff4b0c06",
   "metadata": {},
   "outputs": [],
   "source": []
  }
 ],
 "metadata": {
  "kernelspec": {
   "display_name": "Python 3 (ipykernel)",
   "language": "python",
   "name": "python3"
  },
  "language_info": {
   "codemirror_mode": {
    "name": "ipython",
    "version": 3
   },
   "file_extension": ".py",
   "mimetype": "text/x-python",
   "name": "python",
   "nbconvert_exporter": "python",
   "pygments_lexer": "ipython3",
   "version": "3.9.7"
  }
 },
 "nbformat": 4,
 "nbformat_minor": 5
}
