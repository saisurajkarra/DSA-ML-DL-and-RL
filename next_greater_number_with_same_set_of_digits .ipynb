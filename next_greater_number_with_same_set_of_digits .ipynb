{
 "cells": [
  {
   "cell_type": "code",
   "execution_count": 15,
   "id": "32a531f4",
   "metadata": {},
   "outputs": [
    {
     "name": "stdout",
     "output_type": "stream",
     "text": [
      "4025\n"
     ]
    }
   ],
   "source": [
    "from itertools import permutations\n",
    "def nextnumber(n):\n",
    "    number = list(map(int,n))\n",
    "    res = permutations(n)\n",
    "    res2=[]\n",
    "    for i in res:\n",
    "        res2.append(int(''.join(i)))\n",
    "    res2 = sorted(res2)\n",
    "    return (res2[res2.index(int(n))+1])\n",
    "n = '2540'\n",
    "print(nextnumber(n))"
   ]
  },
  {
   "cell_type": "code",
   "execution_count": null,
   "id": "051114d2",
   "metadata": {},
   "outputs": [],
   "source": []
  }
 ],
 "metadata": {
  "kernelspec": {
   "display_name": "Python 3 (ipykernel)",
   "language": "python",
   "name": "python3"
  },
  "language_info": {
   "codemirror_mode": {
    "name": "ipython",
    "version": 3
   },
   "file_extension": ".py",
   "mimetype": "text/x-python",
   "name": "python",
   "nbconvert_exporter": "python",
   "pygments_lexer": "ipython3",
   "version": "3.9.7"
  }
 },
 "nbformat": 4,
 "nbformat_minor": 5
}
