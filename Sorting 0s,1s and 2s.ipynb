{
 "cells": [
  {
   "cell_type": "code",
   "execution_count": 1,
   "id": "d4d35b9c",
   "metadata": {},
   "outputs": [
    {
     "name": "stdout",
     "output_type": "stream",
     "text": [
      "[0, 0, 0, 1, 1, 2, 2]\n"
     ]
    }
   ],
   "source": [
    "# [1,2,0,2,1,0,0]\n",
    "#\n",
    "# 0-->left \n",
    "# 1-->same\n",
    "# 2-->right\n",
    "def swap(arr,i,j):\n",
    "  temp = arr[i]\n",
    "  arr[i] = arr[j]\n",
    "  arr[j] = temp\n",
    "def sort2(arr,high):\n",
    "  low = 0\n",
    "  mid = 0\n",
    "  pivot = 1\n",
    "  while(mid<=high):\n",
    "    if(arr[mid]<pivot):\n",
    "      swap(arr,low,mid)\n",
    "      low+=1\n",
    "      mid+=1\n",
    "    elif(arr[mid]>pivot):\n",
    "      swap(arr,mid,high)\n",
    "      high-=1\n",
    "    else:\n",
    "      mid+=1\n",
    "array = [1,2,0,2,1,0,0]\n",
    "high = len(array)-1\n",
    "sort2(array,high)\n",
    "print(array)"
   ]
  },
  {
   "cell_type": "code",
   "execution_count": null,
   "id": "00cb9f47",
   "metadata": {},
   "outputs": [],
   "source": []
  }
 ],
 "metadata": {
  "kernelspec": {
   "display_name": "Python 3 (ipykernel)",
   "language": "python",
   "name": "python3"
  },
  "language_info": {
   "codemirror_mode": {
    "name": "ipython",
    "version": 3
   },
   "file_extension": ".py",
   "mimetype": "text/x-python",
   "name": "python",
   "nbconvert_exporter": "python",
   "pygments_lexer": "ipython3",
   "version": "3.9.7"
  }
 },
 "nbformat": 4,
 "nbformat_minor": 5
}
