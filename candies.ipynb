{
  "nbformat": 4,
  "nbformat_minor": 0,
  "metadata": {
    "colab": {
      "name": "candies.ipynb",
      "provenance": []
    },
    "kernelspec": {
      "name": "python3",
      "display_name": "Python 3"
    },
    "language_info": {
      "name": "python"
    }
  },
  "cells": [
    {
      "cell_type": "code",
      "source": [
        "def cand(arr,n):\n",
        "  sum = 0\n",
        "  ans = [1] * n\n",
        "  for i in range(n-1):\n",
        "    if(arr[i+1]>arr[i] and ans[i+1]<=ans[i]):\n",
        "      step1 = ans[i+1] = ans[i] + 1 \n",
        "      print(step1)\n",
        "  for i in range(n-2,-1,-1):\n",
        "    if(arr[i]>arr[i+1] and ans[i]<=ans[i+1]):\n",
        "      step2 =ans[i] = ans[i+1] + 1\n",
        "      print(step2)\n",
        "    elif (arr[i]==arr[i+1] and ans[i]<ans[i+1]):\n",
        "      step3 = ans[i] = ans[i+1] + 1\n",
        "      print(step3)\n",
        "      \n",
        "    step4 = sum = sum + ans[i]\n",
        "    print(step4)\n",
        "  sum += ans[n-1]\n",
        "  return sum\n",
        "arr = [ 1, 0, 2 ]\n",
        "n = len(arr)\n",
        "print(cand(arr,n))\n",
        "\n"
      ],
      "metadata": {
        "id": "lPnAEI4b1tw1",
        "colab": {
          "base_uri": "https://localhost:8080/"
        },
        "outputId": "41d4a7f6-5da6-43f9-8ebc-c563e3460095"
      },
      "execution_count": 6,
      "outputs": [
        {
          "output_type": "stream",
          "name": "stdout",
          "text": [
            "2\n",
            "1\n",
            "2\n",
            "3\n",
            "5\n"
          ]
        }
      ]
    },
    {
      "cell_type": "code",
      "source": [
        ""
      ],
      "metadata": {
        "id": "csKOP0EaXjoZ"
      },
      "execution_count": null,
      "outputs": []
    }
  ]
}