{
  "nbformat": 4,
  "nbformat_minor": 0,
  "metadata": {
    "colab": {
      "name": "Kth_Smallest_element.ipynb",
      "provenance": []
    },
    "kernelspec": {
      "name": "python3",
      "display_name": "Python 3"
    },
    "language_info": {
      "name": "python"
    }
  },
  "cells": [
    {
      "cell_type": "code",
      "execution_count": 9,
      "metadata": {
        "colab": {
          "base_uri": "https://localhost:8080/"
        },
        "id": "7GAKUIh6DI9B",
        "outputId": "d57ba40a-889d-4c21-a8d3-dded7790011a"
      },
      "outputs": [
        {
          "output_type": "stream",
          "name": "stdout",
          "text": [
            "K'th smallest element is 5\n"
          ]
        }
      ],
      "source": [
        "import sys\n",
        "def kth_smallest(arr,low,end,k):\n",
        "  if(k>0 and k<= end-low+1):\n",
        "    pos = partition(arr,low,end)\n",
        "    if(pos-low == k-1):\n",
        "      return arr[pos]\n",
        "    if(pos-low >k-1):\n",
        "      return kth_smallest(arr,low,pos-1,k)\n",
        "    return kth_smallest(arr,pos+1,end,k-pos+low-1)\n",
        "  return sys.maxsize\n",
        "def partition(arr,low,end):\n",
        "  x= arr[end]\n",
        "  i = low\n",
        "  for j in range(low,end):\n",
        "    if (arr[j] <= x):\n",
        "      arr[i],arr[j] = arr[j],arr[i]\n",
        "      i+=1\n",
        "  arr[i],arr[end] = arr[end],arr[i]\n",
        "  return i\n",
        "arr = [12, 3, 5, 7, 4, 19, 26]\n",
        "n = len(arr)\n",
        "k = 3;\n",
        "print(\"K'th smallest element is\",kth_smallest(arr, 0, n - 1, k))"
      ]
    },
    {
      "cell_type": "code",
      "source": [
        "# This function returns k'th smallest element\n",
        "# in arr[l..r] using QuickSort based method.\n",
        "# ASSUMPTION: ALL ELEMENTS IN ARR[] ARE DISTINCT\n",
        "import sys\n",
        "\n",
        "def kthSmallest(arr, l, r, k):\n",
        "\n",
        "\t# If k is smaller than number of\n",
        "\t# elements in array\n",
        "\tif (k > 0 and k <= r - l + 1):\n",
        "\t\n",
        "\t\t# Partition the array around last\n",
        "\t\t# element and get position of pivot\n",
        "\t\t# element in sorted array\n",
        "\t\tpos = partition(arr, l, r)\n",
        "\n",
        "\t\t# If position is same as k\n",
        "\t\tif (pos - l == k - 1):\n",
        "\t\t\treturn arr[pos]\n",
        "\t\tif (pos - l > k - 1): # If position is more,\n",
        "\t\t\t\t\t\t\t# recur for left subarray\n",
        "\t\t\treturn kthSmallest(arr, l, pos - 1, k)\n",
        "\n",
        "\t\t# Else recur for right subarray\n",
        "\t\treturn kthSmallest(arr, pos + 1, r,\n",
        "\t\t\t\t\t\t\tk - pos + l - 1)\n",
        "\n",
        "\t# If k is more than number of\n",
        "\t# elements in array\n",
        "\treturn sys.maxsize\n",
        "\n",
        "# Standard partition process of QuickSort().\n",
        "# It considers the last element as pivot and\n",
        "# moves all smaller element to left of it\n",
        "# and greater elements to right\n",
        "def partition(arr, l, r):\n",
        "\n",
        "\tx = arr[r]\n",
        "\ti = l\n",
        "\tfor j in range(l, r):\n",
        "\t\tif (arr[j] <= x):\n",
        "\t\t\tarr[i], arr[j] = arr[j], arr[i]\n",
        "\t\t\ti += 1\n",
        "\tarr[i], arr[r] = arr[r], arr[i]\n",
        "\treturn i\n",
        "\n",
        "# Driver Code\n",
        "if __name__ == \"__main__\":\n",
        "\t\n",
        "\tarr = [12, 3, 5, 7, 4, 19, 26]\n",
        "\tn = len(arr)\n",
        "\tk = 3;\n",
        "\tprint(\"K'th smallest element is\",\n",
        "\t\tkthSmallest(arr, 0, n - 1, k))\n",
        "\n",
        "# This code is contributed by ita_c\n"
      ],
      "metadata": {
        "colab": {
          "base_uri": "https://localhost:8080/"
        },
        "id": "cC2oyKvhEiyi",
        "outputId": "0e4ebbf7-8e97-4951-ded0-3d34ab6e5d9e"
      },
      "execution_count": 5,
      "outputs": [
        {
          "output_type": "stream",
          "name": "stdout",
          "text": [
            "K'th smallest element is 5\n"
          ]
        }
      ]
    },
    {
      "cell_type": "code",
      "source": [
        "def kth_Smallest(arr,low,end,k):\n",
        "  "
      ],
      "metadata": {
        "id": "AXV2OKtnFAmA"
      },
      "execution_count": null,
      "outputs": []
    }
  ]
}