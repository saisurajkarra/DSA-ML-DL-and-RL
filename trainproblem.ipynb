{
  "nbformat": 4,
  "nbformat_minor": 0,
  "metadata": {
    "colab": {
      "name": "trainproblem.ipynb",
      "provenance": []
    },
    "kernelspec": {
      "name": "python3",
      "display_name": "Python 3"
    },
    "language_info": {
      "name": "python"
    }
  },
  "cells": [
    {
      "cell_type": "code",
      "execution_count": 13,
      "metadata": {
        "colab": {
          "base_uri": "https://localhost:8080/"
        },
        "id": "AwjEp1SwHpR5",
        "outputId": "64276e03-ea5a-4757-8359-ba5f17935208"
      },
      "outputs": [
        {
          "output_type": "stream",
          "name": "stdout",
          "text": [
            "4\n"
          ]
        }
      ],
      "source": [
        "def trainplatform(arr,dep,n):\n",
        "  dep.sort()\n",
        "  i = 1\n",
        "  j = 0\n",
        "  platform = 1\n",
        "  main = 1\n",
        "  while(i<n and j<n):\n",
        "    if(arr[i]<=dep[j]):\n",
        "      platform+=1\n",
        "      i+=1\n",
        "      if(platform>main):\n",
        "        main = platform\n",
        "    elif(arr[i]>dep[j]):\n",
        "      platform-=1\n",
        "      j-=1\n",
        "  return main\n",
        "arr = [100, 140, 150, 200, 215, 400] \n",
        "dep = [110, 300, 220, 230, 315, 600] \n",
        "n = len(arr)-1\n",
        "print(trainplatform(arr,dep,n))\n",
        "\n"
      ]
    },
    {
      "cell_type": "code",
      "source": [
        ""
      ],
      "metadata": {
        "id": "1fhOY7ceKRaH"
      },
      "execution_count": null,
      "outputs": []
    }
  ]
}