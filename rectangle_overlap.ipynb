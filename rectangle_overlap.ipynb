{
  "nbformat": 4,
  "nbformat_minor": 0,
  "metadata": {
    "colab": {
      "name": "rectangle overlap.ipynb",
      "provenance": []
    },
    "kernelspec": {
      "name": "python3",
      "display_name": "Python 3"
    },
    "language_info": {
      "name": "python"
    }
  },
  "cells": [
    {
      "cell_type": "code",
      "execution_count": 8,
      "metadata": {
        "colab": {
          "base_uri": "https://localhost:8080/"
        },
        "id": "tdYEN5aMxGQo",
        "outputId": "b91c0b7c-10c7-4553-c91b-7838f8e3231d"
      },
      "outputs": [
        {
          "output_type": "stream",
          "name": "stdout",
          "text": [
            "Rectangles Don't Overlap\n"
          ]
        }
      ],
      "source": [
        "class Point:\n",
        "  def __init__(self,x,y):\n",
        "    self.x = x\n",
        "    self.y = y\n",
        "def checkOverlap(s,p,s1,p1):\n",
        "  if(s.x>=p1.x and s1.x>=p.x):\n",
        "    return False\n",
        "  if(s.y>=p1.y and s1.y>=p.y):\n",
        "    return False\n",
        "  return True\n",
        "if __name__ == \"__main__\":\n",
        "  s = Point(0, 10) \n",
        "  p = Point(10, 0) \t   \n",
        "  s1 = Point(5, 5) \n",
        "  p1 = Point(15, 0) \n",
        "  if(checkOverlap(s, p, s1, p1)): \n",
        "    print(\"Rectangles Overlap\") \n",
        "  else: \n",
        "    print(\"Rectangles Don't Overlap\")"
      ]
    },
    {
      "cell_type": "code",
      "source": [
        ""
      ],
      "metadata": {
        "id": "WsjpR3qpyZnK"
      },
      "execution_count": null,
      "outputs": []
    }
  ]
}