{
  "nbformat": 4,
  "nbformat_minor": 0,
  "metadata": {
    "colab": {
      "name": "Buy,Sell stock.ipynb",
      "provenance": []
    },
    "kernelspec": {
      "name": "python3",
      "display_name": "Python 3"
    },
    "language_info": {
      "name": "python"
    }
  },
  "cells": [
    {
      "cell_type": "code",
      "source": [
        "def buy_sell(arr,n):\n",
        "  i=0\n",
        "  if(i==n):\n",
        "    return \n",
        "  while(i<n-1):\n",
        "    while(i<n and arr[i+1]<arr[i]):\n",
        "      i+=1\n",
        "    if(i==n-1):\n",
        "      break\n",
        "    buy = i\n",
        "    i+=1\n",
        "    while(i<n and arr[i]>arr[i-1]):\n",
        "      i+=1\n",
        "    sell = i-1\n",
        "    print(\"buy\",buy,\"sell\",sell)\n",
        "arr = [98, 178, 250, 300, 40, 540, 690] \n",
        "buy_sell(arr,len(arr))  \n",
        "    "
      ],
      "metadata": {
        "colab": {
          "base_uri": "https://localhost:8080/"
        },
        "id": "Y3fEeQRg2qav",
        "outputId": "900afec7-20b8-479a-b91f-a205b78a1bb0"
      },
      "execution_count": 43,
      "outputs": [
        {
          "output_type": "stream",
          "name": "stdout",
          "text": [
            "buy 0 sell 3\n",
            "buy 4 sell 6\n"
          ]
        }
      ]
    },
    {
      "cell_type": "code",
      "source": [
        ""
      ],
      "metadata": {
        "colab": {
          "base_uri": "https://localhost:8080/"
        },
        "id": "mO4F3DG73Y3_",
        "outputId": "c376c45f-eb12-4a9e-eafd-c13576ce6632"
      },
      "execution_count": 41,
      "outputs": [
        {
          "output_type": "stream",
          "name": "stdout",
          "text": [
            "The non-repeating elements are  7  and  9\n"
          ]
        }
      ]
    },
    {
      "cell_type": "code",
      "source": [
        ""
      ],
      "metadata": {
        "id": "0syK2DktC8rd"
      },
      "execution_count": null,
      "outputs": []
    }
  ]
}