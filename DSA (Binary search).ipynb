{
 "cells": [
  {
   "cell_type": "code",
   "execution_count": 1,
   "id": "5d554c90",
   "metadata": {},
   "outputs": [
    {
     "name": "stdout",
     "output_type": "stream",
     "text": [
      "4\n"
     ]
    }
   ],
   "source": [
    "\n",
    "def binarysearch(arr,key,low,high):\n",
    "    if (low>high):\n",
    "        return -1\n",
    "    mid = low + ((high-low)//2)\n",
    "    if(key==arr[mid]):\n",
    "        return mid\n",
    "    elif(key<mid):\n",
    "        return binarysearch(arr,key,low,mid-1)\n",
    "    else:\n",
    "        return binarysearch(arr,key,mid+1,high)\n",
    "arr = [1,3,5,7,9,90]\n",
    "key = 9\n",
    "low = 0\n",
    "high = len(arr)-1\n",
    "print(binarysearch(arr,key,low,high))\n",
    "\n",
    "#time complexity = O(log(n))"
   ]
  },
  {
   "cell_type": "code",
   "execution_count": null,
   "id": "a60609d1",
   "metadata": {},
   "outputs": [],
   "source": []
  }
 ],
 "metadata": {
  "kernelspec": {
   "display_name": "Python 3 (ipykernel)",
   "language": "python",
   "name": "python3"
  },
  "language_info": {
   "codemirror_mode": {
    "name": "ipython",
    "version": 3
   },
   "file_extension": ".py",
   "mimetype": "text/x-python",
   "name": "python",
   "nbconvert_exporter": "python",
   "pygments_lexer": "ipython3",
   "version": "3.9.7"
  }
 },
 "nbformat": 4,
 "nbformat_minor": 5
}
