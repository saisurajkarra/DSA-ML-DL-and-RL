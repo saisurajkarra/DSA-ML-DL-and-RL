{
  "nbformat": 4,
  "nbformat_minor": 0,
  "metadata": {
    "colab": {
      "name": "Kadanes_agorithm.ipynb",
      "provenance": []
    },
    "kernelspec": {
      "name": "python3",
      "display_name": "Python 3"
    },
    "language_info": {
      "name": "python"
    }
  },
  "cells": [
    {
      "cell_type": "code",
      "execution_count": 17,
      "metadata": {
        "colab": {
          "base_uri": "https://localhost:8080/"
        },
        "id": "PnD92FdfiGbF",
        "outputId": "9b231e11-deb7-4542-ed73-7a2d8e1b0554"
      },
      "outputs": [
        {
          "output_type": "stream",
          "name": "stdout",
          "text": [
            "6\n"
          ]
        }
      ],
      "source": [
        "def maxsubarray(arr):\n",
        "  size = len(arr)\n",
        "  max_till_now = arr[0]\n",
        "  max_ending = 0 \n",
        "  for i in range(0,size):\n",
        "    max_ending = max_ending + arr[i]\n",
        "    if max_ending<0:\n",
        "      max_ending = 0\n",
        "    elif(max_till_now<max_ending):\n",
        "      max_till_now = max_ending\n",
        "  return max_till_now\n",
        "arr = [-2, -3, 4, -1, -2, 5, -3]\n",
        "print(maxsubarray(arr))"
      ]
    },
    {
      "cell_type": "code",
      "source": [
        "def maxSubArraySum(arr,size):\n",
        "    \n",
        "    max_till_now = arr[0]\n",
        "    max_ending = 0\n",
        "    \n",
        "    for i in range(0, size):\n",
        "        max_ending = max_ending + arr[i]\n",
        "        if max_ending < 0:\n",
        "            max_ending = 0\n",
        "        \n",
        "        \n",
        "        elif (max_till_now < max_ending):\n",
        "            max_till_now = max_ending\n",
        "            \n",
        "    return max_till_now\n",
        "\n",
        "arr = [-2, -3, 4, -1, -2, 5, -3]\n",
        "print(\"Maximum Sub Array Sum Is\" , maxSubArraySum(arr,len(arr)))"
      ],
      "metadata": {
        "colab": {
          "base_uri": "https://localhost:8080/"
        },
        "id": "tO-V-CvrilEU",
        "outputId": "6a36a000-0d28-4dd5-b4c1-c00f901db326"
      },
      "execution_count": 16,
      "outputs": [
        {
          "output_type": "stream",
          "name": "stdout",
          "text": [
            "Maximum Sub Array Sum Is 6\n"
          ]
        }
      ]
    },
    {
      "cell_type": "code",
      "source": [
        ""
      ],
      "metadata": {
        "id": "73uvynY8pw8v"
      },
      "execution_count": null,
      "outputs": []
    }
  ]
}